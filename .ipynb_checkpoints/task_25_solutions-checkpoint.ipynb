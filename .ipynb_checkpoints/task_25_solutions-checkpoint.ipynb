{
 "cells": [
  {
   "cell_type": "code",
   "execution_count": 1,
   "metadata": {
    "id": "T-oRHtiffykk"
   },
   "outputs": [],
   "source": [
    "import pandas as pd\n",
    "import numpy as np\n",
    "\n",
    "import matplotlib.pyplot as plt\n",
    "import seaborn as sns\n",
    "\n",
    "plt.style.use(\"ggplot\")"
   ]
  },
  {
   "cell_type": "markdown",
   "metadata": {
    "id": "YLYT44a8f4yr"
   },
   "source": [
    "### `Q-1:` Using Gapminder Data\n",
    "1. Create a scatter plot of 'gdpPercap' against 'lifeExp' for the year 2007, with the size of the markers determined by 'pop' and the color determined by 'continent'."
   ]
  },
  {
   "cell_type": "code",
   "execution_count": 2,
   "metadata": {
    "colab": {
     "base_uri": "https://localhost:8080/",
     "height": 206
    },
    "id": "d7fXEr7Sf4KV",
    "outputId": "5c55bf20-09f5-4e24-c653-84323ffba154"
   },
   "outputs": [],
   "source": [
    "# code here\n"
   ]
  },
  {
   "cell_type": "code",
   "execution_count": null,
   "metadata": {
    "colab": {
     "base_uri": "https://localhost:8080/",
     "height": 299
    },
    "id": "-BtdHfZw5xCz",
    "outputId": "3db134ce-d151-4c90-a48f-7c8f5321c658"
   },
   "outputs": [],
   "source": []
  },
  {
   "cell_type": "markdown",
   "metadata": {
    "id": "w_HQE1vIgAjy"
   },
   "source": [
    "### `Q-2-3:` Using `flights` dataset of seaborn.\n",
    "\n",
    "2. Using the \"flights\" dataset that comes with seaborn, create a heatmap that shows the average number of passengers per month for each year.\n",
    "\n",
    "3. Using the seaborn's flight dataset, create a clustermap to visualize the relationship between the number of passengers, months, and year.\n"
   ]
  },
  {
   "cell_type": "code",
   "execution_count": 3,
   "metadata": {
    "colab": {
     "base_uri": "https://localhost:8080/",
     "height": 206
    },
    "id": "_PtsQZWpgHJc",
    "outputId": "91a01e83-65d3-4439-89f7-102fe3d7f07e"
   },
   "outputs": [],
   "source": [
    "# code here"
   ]
  },
  {
   "cell_type": "code",
   "execution_count": null,
   "metadata": {
    "colab": {
     "base_uri": "https://localhost:8080/",
     "height": 299
    },
    "id": "JJxO9q4B6Smn",
    "outputId": "4c5a75fb-9ced-4b6e-9ac2-7752b486c0c5"
   },
   "outputs": [],
   "source": []
  },
  {
   "cell_type": "code",
   "execution_count": null,
   "metadata": {
    "colab": {
     "base_uri": "https://localhost:8080/",
     "height": 746
    },
    "id": "8a-bkZCe6w7H",
    "outputId": "7c6d7bbd-b361-4e60-b87f-3fc0dde5ae7d"
   },
   "outputs": [],
   "source": []
  },
  {
   "cell_type": "markdown",
   "metadata": {
    "id": "P-iMGKHVgJA4"
   },
   "source": [
    "## For questions 4-8:\n",
    "\n",
    "For these qestions, an insurance dataset is used. You can get details from [here](https://www.kaggle.com/datasets/thedevastator/insurance-claim-analysis-demographic-and-health). And if you want this dataset to use directly, then you can use this link: **https://docs.google.com/spreadsheets/d/e/2PACX-1vQVpcVtdYdZU4zU4-lqxt-iPHkyndDWs_aqEDUu9ZodlJ48Dku0PFgdXlj2N5RCmwXJrNtZLsI_wEVf/pub?gid=220677750&single=true&output=csv**"
   ]
  },
  {
   "cell_type": "markdown",
   "metadata": {
    "id": "WyRz6yw8gWda"
   },
   "source": [
    "### **`Q-4:`** Draw a scatter plot based on the below conditions:\n",
    "1. x-axis should be \"age\" and y-axis should be \"bmi\".\n",
    "2. For hue, size and style parameters use \"diabetic\", \"gender\" and \"smoker\" column respectively.\n",
    "3. Add title to your chart.\n",
    "4. Age should be less than 70 percentiles.\n",
    "5. BMI should be greater than the average value of the filtered age dataset."
   ]
  },
  {
   "cell_type": "code",
   "execution_count": 4,
   "metadata": {
    "colab": {
     "base_uri": "https://localhost:8080/",
     "height": 206
    },
    "id": "baLhKFOdgS62",
    "outputId": "562469ce-57f8-47c3-bb73-7641bdd7cbb8"
   },
   "outputs": [],
   "source": [
    "# code here\n"
   ]
  },
  {
   "cell_type": "code",
   "execution_count": null,
   "metadata": {
    "id": "4fhR2jOz76IW"
   },
   "outputs": [],
   "source": []
  },
  {
   "cell_type": "code",
   "execution_count": null,
   "metadata": {
    "colab": {
     "base_uri": "https://localhost:8080/",
     "height": 500
    },
    "id": "99lsltHZ9SDb",
    "outputId": "cea3b50b-af1b-436c-ebd8-8c670d2821ae"
   },
   "outputs": [],
   "source": []
  },
  {
   "cell_type": "markdown",
   "metadata": {
    "id": "pWKa09ougZ3Q"
   },
   "source": [
    "### **`Q-5:`** Draw a line plot by using the below informations\n",
    "\n",
    "1. bloodpressure vs children\n",
    "2. Blood-pressure values should be between 90 and 100. The upper and lower limit are included.\n",
    "3. Show the details of \"smoker\". "
   ]
  },
  {
   "cell_type": "code",
   "execution_count": 5,
   "metadata": {
    "colab": {
     "base_uri": "https://localhost:8080/",
     "height": 299
    },
    "id": "Qk-MRrTdgdRY",
    "outputId": "b4b645a6-4bd2-4592-c285-dcb1ded0b635"
   },
   "outputs": [],
   "source": [
    "# Code here\n"
   ]
  },
  {
   "cell_type": "markdown",
   "metadata": {
    "id": "6a-L5fCYggMx"
   },
   "source": [
    "### **`Q-6:`** Draw a histogram using displot\n",
    "\n",
    "- based on \"age\" column.\n",
    "- Show details of \"smoker\" (hue).\n",
    "- Create 2 separate charts for the above 2 conditions based on \"gender\" side-by-side."
   ]
  },
  {
   "cell_type": "code",
   "execution_count": 6,
   "metadata": {
    "colab": {
     "base_uri": "https://localhost:8080/",
     "height": 386
    },
    "id": "1WxS15mBgjht",
    "outputId": "9d16e183-3c29-41e6-ee28-3f2be284c9b2"
   },
   "outputs": [],
   "source": [
    "# code here\n"
   ]
  },
  {
   "cell_type": "markdown",
   "metadata": {
    "id": "D3L4ERYZglIJ"
   },
   "source": [
    "### **`Q-7:`** Draw a kde plot between \"age\" and \"bloodpressure\"."
   ]
  },
  {
   "cell_type": "code",
   "execution_count": 7,
   "metadata": {
    "colab": {
     "base_uri": "https://localhost:8080/",
     "height": 303
    },
    "id": "LebQKGJvgoWu",
    "outputId": "b6536b40-c5ff-4ef6-d539-6a4e56abd7f7"
   },
   "outputs": [],
   "source": [
    "# code here\n"
   ]
  },
  {
   "cell_type": "markdown",
   "metadata": {
    "id": "-uuZXBuqgpzo"
   },
   "source": [
    "### **`Q-8:`** Draw a clustermap between between \"age\", \"bmi\" and \"bloodpressure\"."
   ]
  },
  {
   "cell_type": "code",
   "execution_count": 8,
   "metadata": {
    "colab": {
     "base_uri": "https://localhost:8080/",
     "height": 746
    },
    "id": "jlly0VnjgsIU",
    "outputId": "70793a48-4299-48dd-f120-7ffe91001d5a"
   },
   "outputs": [],
   "source": [
    "# code here\n"
   ]
  },
  {
   "cell_type": "code",
   "execution_count": null,
   "metadata": {
    "colab": {
     "base_uri": "https://localhost:8080/"
    },
    "id": "2ASDVvuKAWWY",
    "outputId": "8a338f14-4bcf-4440-dbbf-25343f5c865d"
   },
   "outputs": [],
   "source": []
  },
  {
   "cell_type": "code",
   "execution_count": null,
   "metadata": {
    "colab": {
     "base_uri": "https://localhost:8080/"
    },
    "id": "S4XOc9xUAbT5",
    "outputId": "d04c7cad-c92a-4071-9635-b7a915b3ae6b"
   },
   "outputs": [],
   "source": []
  },
  {
   "cell_type": "code",
   "execution_count": null,
   "metadata": {
    "id": "pag8JxBgAd0W"
   },
   "outputs": [],
   "source": []
  }
 ],
 "metadata": {
  "colab": {
   "provenance": []
  },
  "kernelspec": {
   "display_name": "Python 3 (ipykernel)",
   "language": "python",
   "name": "python3"
  },
  "language_info": {
   "codemirror_mode": {
    "name": "ipython",
    "version": 3
   },
   "file_extension": ".py",
   "mimetype": "text/x-python",
   "name": "python",
   "nbconvert_exporter": "python",
   "pygments_lexer": "ipython3",
   "version": "3.9.13"
  }
 },
 "nbformat": 4,
 "nbformat_minor": 1
}
